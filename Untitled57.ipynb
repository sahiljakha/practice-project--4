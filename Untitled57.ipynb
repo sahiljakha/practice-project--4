{
 "cells": [
  {
   "cell_type": "code",
   "execution_count": 1,
   "id": "1a9ebaec",
   "metadata": {},
   "outputs": [
    {
     "ename": "SyntaxError",
     "evalue": "invalid syntax (1267909953.py, line 1)",
     "output_type": "error",
     "traceback": [
      "\u001b[1;36m  Input \u001b[1;32mIn [1]\u001b[1;36m\u001b[0m\n\u001b[1;33m    Baseball Case Study\u001b[0m\n\u001b[1;37m             ^\u001b[0m\n\u001b[1;31mSyntaxError\u001b[0m\u001b[1;31m:\u001b[0m invalid syntax\n"
     ]
    }
   ],
   "source": [
    "Baseball Case Study\n",
    "Project Description\n",
    "This dataset utilizes data from 2014 Major League Baseball seasons in order to develop an algorithm that predicts the number of wins for a given team in the 2015 season based on several different indicators of success. There are 16 different features that will be used as the inputs to the machine learning and the output will be a value that represents the number of wins. \n",
    "-- Input features-\n",
    "1.\tW - This indicates the number of Wins credited to a pitcher: number of games where pitcher was pitching while their team took the lead and went on to win, also the starter needs to pitch at least 5 innings of work.\n",
    "2.\tR - This indicates Runs scored. A run is scored when a player advances around first, second and third base and returns safely to home plate, touching the bases in that order, before three outs are recorded and all obligations to reach base safely on batted balls are met or assured: number of times a player crosses home plate.\n",
    "3.\tAB - This means At bat or time at bat. It's is a batter's turn batting against a pitcher: plate appearances, not including bases on balls, being hit by pitch, sacrifices, interference, or obstruction.\n",
    "4.\tH - This means Hit. It's also called a \"base hit\", is credited to a batter when the batter safely reaches or passes first base after hitting the ball into fair territory, without the benefit of either an error or a fielder's choice: reaching base because of a batted, fair ball without error by the defense.\n",
    "5.\t2B - This means the act of a batter striking the pitched ball and safely reaching second base without being called out by the umpire, without the benefit of a fielder's misplay (see error) or another runner being put out on a fielder's choice. A double is a type of hit (the others being the single, triple and home run) and is sometimes called a \"two-bagger\" or \"two-base hit\": hits on which the batter reaches second base safely without the contribution of a fielding error.\n",
    "6.\t3B - This measns a Triple.It's is the act of a batter safely reaching third base after hitting the ball, with neither the benefit of a fielder's misplay nor another runner being put out on a fielder's choice. A triple is sometimes called a \"three-bagger\" or \"three-base hit\": hits on which the batter reaches third base safely without the contribution of a fielding error.\n",
    "7.\tHR - This means Home runs. It's scored when the ball is hit in such a way that the batter is able to circle the bases and reach home plate safely in one play without any errors being committed by the defensive team. A home run is usually achieved by hitting the ball over the outfield fence between the foul poles (or hitting either foul pole) without the ball touching the field: hits on which the batter successfully touched all four bases, without the contribution of a fielding error.\n",
    "8.\tBB - This means Base on balls (also called a \"walk\"). It occurs in baseball when a batter receives four pitches that the umpire calls balls, and is in turn awarded first base without the possibility of being called out: hitter not swinging at four pitches called out of the strike zone and awarded first base.\n",
    "9.\tSO - Also denoted as \"K\" means Strikeout. It occurs when a batter accumulates three strikes during a time at bat. It usually means that the batter is out: number of batters who received strike three.\n",
    "10.\tSB - This means Stolen base. It occurs when a runner advances to a base to which they are not entitled and the official scorer rules that the advance should be credited to the action of the runner: number of bases advanced by the runner while the ball is in the possession of the defense.\n",
    "11.\tRA - This means Run Average. It refer to measures of the rate at which runs are allowed or scored.\n",
    "12.\tER - This means Earned run. It refers to any run that was fully enabled by the offensive team's production in the face of competent play from the defensive team: number of runs that did not occur as a result of errors or passed balls.\n",
    "13.\tERA - This means Earned Run Average. It refers to the average of earned runs allowed by a pitcher per nine innings pitched (i.e. the traditional length of a game). It is determined by dividing the number of earned runs allowed by the number of innings pitched and multiplying by nine: total number of earned runs (see \"ER\" above), multiplied by 9, divided by innings pitched.\n",
    "14.\tCG - This means Complete Game. It's the act of a pitcher pitching an entire game without the benefit of a relief pitcher. A pitcher who meets this criterion will be credited with a complete game regardless of the number of innings played: number of games where player was the only pitcher for their team.\n",
    "15.\tSHO - This means Shutout. It refers to the act by which a single pitcher pitches a complete game and does not allow the opposing team to score a run: number of complete games pitched with no runs allowed.\n",
    "16.\tSV - This means Save. It's credited to a pitcher who finishes a game for the winning team under certain prescribed circumstances: number of games where the pitcher enters a game led by the pitcher's team, finishes the game without surrendering the lead, is not the winning pitcher, and either (a) the lead was three runs or fewer when the pitcher entered the game; (b) the potential tying run was on base, at bat, or on deck; or (c) the pitcher pitched three or more innings.\n",
    "17.\tE - This means Errors. It's an act, in the judgment of the official scorer, of a fielder misplaying a ball in a manner that allows a batter or baserunner to advance one or more bases or allows a plate appearance to continue after the batter should have been put out. The term error is sometimes used to refer to the play during which an error was committed: number of times a fielder fails to make a play he should have made with common effort, and the offense benefits as a result.\n",
    "\n",
    "-- Output: Number of predicted wins (W)\n",
    "To understand the columns meaning, follow the link given below to understand the baseball statistics: https://en.wikipedia.org/wiki/Baseball_statistics\n",
    "For downloading the dataset, use the link given below. \n",
    "\n",
    "Dataset Link-\n",
    "•\thttps://github.com/dsrscientist/Data-Science-ML-Capstone-Projects/blob/master/baseball.csv\n",
    "\n",
    "\n",
    "\n",
    "\n",
    "\n",
    "\n",
    "\n",
    "\n",
    "\n"
   ]
  },
  {
   "cell_type": "code",
   "execution_count": 3,
   "id": "c1233eaa",
   "metadata": {},
   "outputs": [],
   "source": [
    "import pandas as pd"
   ]
  },
  {
   "cell_type": "code",
   "execution_count": 4,
   "id": "18f59cda",
   "metadata": {},
   "outputs": [
    {
     "data": {
      "text/html": [
       "<div>\n",
       "<style scoped>\n",
       "    .dataframe tbody tr th:only-of-type {\n",
       "        vertical-align: middle;\n",
       "    }\n",
       "\n",
       "    .dataframe tbody tr th {\n",
       "        vertical-align: top;\n",
       "    }\n",
       "\n",
       "    .dataframe thead th {\n",
       "        text-align: right;\n",
       "    }\n",
       "</style>\n",
       "<table border=\"1\" class=\"dataframe\">\n",
       "  <thead>\n",
       "    <tr style=\"text-align: right;\">\n",
       "      <th></th>\n",
       "      <th>W</th>\n",
       "      <th>R</th>\n",
       "      <th>AB</th>\n",
       "      <th>H</th>\n",
       "      <th>2B</th>\n",
       "      <th>3B</th>\n",
       "      <th>HR</th>\n",
       "      <th>BB</th>\n",
       "      <th>SO</th>\n",
       "      <th>SB</th>\n",
       "      <th>RA</th>\n",
       "      <th>ER</th>\n",
       "      <th>ERA</th>\n",
       "      <th>CG</th>\n",
       "      <th>SHO</th>\n",
       "      <th>SV</th>\n",
       "      <th>E</th>\n",
       "    </tr>\n",
       "  </thead>\n",
       "  <tbody>\n",
       "    <tr>\n",
       "      <th>0</th>\n",
       "      <td>95</td>\n",
       "      <td>724</td>\n",
       "      <td>5575</td>\n",
       "      <td>1497</td>\n",
       "      <td>300</td>\n",
       "      <td>42</td>\n",
       "      <td>139</td>\n",
       "      <td>383</td>\n",
       "      <td>973</td>\n",
       "      <td>104</td>\n",
       "      <td>641</td>\n",
       "      <td>601</td>\n",
       "      <td>3.73</td>\n",
       "      <td>2</td>\n",
       "      <td>8</td>\n",
       "      <td>56</td>\n",
       "      <td>88</td>\n",
       "    </tr>\n",
       "    <tr>\n",
       "      <th>1</th>\n",
       "      <td>83</td>\n",
       "      <td>696</td>\n",
       "      <td>5467</td>\n",
       "      <td>1349</td>\n",
       "      <td>277</td>\n",
       "      <td>44</td>\n",
       "      <td>156</td>\n",
       "      <td>439</td>\n",
       "      <td>1264</td>\n",
       "      <td>70</td>\n",
       "      <td>700</td>\n",
       "      <td>653</td>\n",
       "      <td>4.07</td>\n",
       "      <td>2</td>\n",
       "      <td>12</td>\n",
       "      <td>45</td>\n",
       "      <td>86</td>\n",
       "    </tr>\n",
       "    <tr>\n",
       "      <th>2</th>\n",
       "      <td>81</td>\n",
       "      <td>669</td>\n",
       "      <td>5439</td>\n",
       "      <td>1395</td>\n",
       "      <td>303</td>\n",
       "      <td>29</td>\n",
       "      <td>141</td>\n",
       "      <td>533</td>\n",
       "      <td>1157</td>\n",
       "      <td>86</td>\n",
       "      <td>640</td>\n",
       "      <td>584</td>\n",
       "      <td>3.67</td>\n",
       "      <td>11</td>\n",
       "      <td>10</td>\n",
       "      <td>38</td>\n",
       "      <td>79</td>\n",
       "    </tr>\n",
       "    <tr>\n",
       "      <th>3</th>\n",
       "      <td>76</td>\n",
       "      <td>622</td>\n",
       "      <td>5533</td>\n",
       "      <td>1381</td>\n",
       "      <td>260</td>\n",
       "      <td>27</td>\n",
       "      <td>136</td>\n",
       "      <td>404</td>\n",
       "      <td>1231</td>\n",
       "      <td>68</td>\n",
       "      <td>701</td>\n",
       "      <td>643</td>\n",
       "      <td>3.98</td>\n",
       "      <td>7</td>\n",
       "      <td>9</td>\n",
       "      <td>37</td>\n",
       "      <td>101</td>\n",
       "    </tr>\n",
       "    <tr>\n",
       "      <th>4</th>\n",
       "      <td>74</td>\n",
       "      <td>689</td>\n",
       "      <td>5605</td>\n",
       "      <td>1515</td>\n",
       "      <td>289</td>\n",
       "      <td>49</td>\n",
       "      <td>151</td>\n",
       "      <td>455</td>\n",
       "      <td>1259</td>\n",
       "      <td>83</td>\n",
       "      <td>803</td>\n",
       "      <td>746</td>\n",
       "      <td>4.64</td>\n",
       "      <td>7</td>\n",
       "      <td>12</td>\n",
       "      <td>35</td>\n",
       "      <td>86</td>\n",
       "    </tr>\n",
       "    <tr>\n",
       "      <th>5</th>\n",
       "      <td>93</td>\n",
       "      <td>891</td>\n",
       "      <td>5509</td>\n",
       "      <td>1480</td>\n",
       "      <td>308</td>\n",
       "      <td>17</td>\n",
       "      <td>232</td>\n",
       "      <td>570</td>\n",
       "      <td>1151</td>\n",
       "      <td>88</td>\n",
       "      <td>670</td>\n",
       "      <td>609</td>\n",
       "      <td>3.80</td>\n",
       "      <td>7</td>\n",
       "      <td>10</td>\n",
       "      <td>34</td>\n",
       "      <td>88</td>\n",
       "    </tr>\n",
       "    <tr>\n",
       "      <th>6</th>\n",
       "      <td>87</td>\n",
       "      <td>764</td>\n",
       "      <td>5567</td>\n",
       "      <td>1397</td>\n",
       "      <td>272</td>\n",
       "      <td>19</td>\n",
       "      <td>212</td>\n",
       "      <td>554</td>\n",
       "      <td>1227</td>\n",
       "      <td>63</td>\n",
       "      <td>698</td>\n",
       "      <td>652</td>\n",
       "      <td>4.03</td>\n",
       "      <td>3</td>\n",
       "      <td>4</td>\n",
       "      <td>48</td>\n",
       "      <td>93</td>\n",
       "    </tr>\n",
       "    <tr>\n",
       "      <th>7</th>\n",
       "      <td>81</td>\n",
       "      <td>713</td>\n",
       "      <td>5485</td>\n",
       "      <td>1370</td>\n",
       "      <td>246</td>\n",
       "      <td>20</td>\n",
       "      <td>217</td>\n",
       "      <td>418</td>\n",
       "      <td>1331</td>\n",
       "      <td>44</td>\n",
       "      <td>693</td>\n",
       "      <td>646</td>\n",
       "      <td>4.05</td>\n",
       "      <td>0</td>\n",
       "      <td>10</td>\n",
       "      <td>43</td>\n",
       "      <td>77</td>\n",
       "    </tr>\n",
       "    <tr>\n",
       "      <th>8</th>\n",
       "      <td>80</td>\n",
       "      <td>644</td>\n",
       "      <td>5485</td>\n",
       "      <td>1383</td>\n",
       "      <td>278</td>\n",
       "      <td>32</td>\n",
       "      <td>167</td>\n",
       "      <td>436</td>\n",
       "      <td>1310</td>\n",
       "      <td>87</td>\n",
       "      <td>642</td>\n",
       "      <td>604</td>\n",
       "      <td>3.74</td>\n",
       "      <td>1</td>\n",
       "      <td>12</td>\n",
       "      <td>60</td>\n",
       "      <td>95</td>\n",
       "    </tr>\n",
       "    <tr>\n",
       "      <th>9</th>\n",
       "      <td>78</td>\n",
       "      <td>748</td>\n",
       "      <td>5640</td>\n",
       "      <td>1495</td>\n",
       "      <td>294</td>\n",
       "      <td>33</td>\n",
       "      <td>161</td>\n",
       "      <td>478</td>\n",
       "      <td>1148</td>\n",
       "      <td>71</td>\n",
       "      <td>753</td>\n",
       "      <td>694</td>\n",
       "      <td>4.31</td>\n",
       "      <td>3</td>\n",
       "      <td>10</td>\n",
       "      <td>40</td>\n",
       "      <td>97</td>\n",
       "    </tr>\n",
       "    <tr>\n",
       "      <th>10</th>\n",
       "      <td>88</td>\n",
       "      <td>751</td>\n",
       "      <td>5511</td>\n",
       "      <td>1419</td>\n",
       "      <td>279</td>\n",
       "      <td>32</td>\n",
       "      <td>172</td>\n",
       "      <td>503</td>\n",
       "      <td>1233</td>\n",
       "      <td>101</td>\n",
       "      <td>733</td>\n",
       "      <td>680</td>\n",
       "      <td>4.24</td>\n",
       "      <td>5</td>\n",
       "      <td>9</td>\n",
       "      <td>45</td>\n",
       "      <td>119</td>\n",
       "    </tr>\n",
       "    <tr>\n",
       "      <th>11</th>\n",
       "      <td>86</td>\n",
       "      <td>729</td>\n",
       "      <td>5459</td>\n",
       "      <td>1363</td>\n",
       "      <td>278</td>\n",
       "      <td>26</td>\n",
       "      <td>230</td>\n",
       "      <td>486</td>\n",
       "      <td>1392</td>\n",
       "      <td>121</td>\n",
       "      <td>618</td>\n",
       "      <td>572</td>\n",
       "      <td>3.57</td>\n",
       "      <td>5</td>\n",
       "      <td>13</td>\n",
       "      <td>39</td>\n",
       "      <td>85</td>\n",
       "    </tr>\n",
       "    <tr>\n",
       "      <th>12</th>\n",
       "      <td>85</td>\n",
       "      <td>661</td>\n",
       "      <td>5417</td>\n",
       "      <td>1331</td>\n",
       "      <td>243</td>\n",
       "      <td>21</td>\n",
       "      <td>176</td>\n",
       "      <td>435</td>\n",
       "      <td>1150</td>\n",
       "      <td>52</td>\n",
       "      <td>675</td>\n",
       "      <td>630</td>\n",
       "      <td>3.94</td>\n",
       "      <td>2</td>\n",
       "      <td>12</td>\n",
       "      <td>46</td>\n",
       "      <td>93</td>\n",
       "    </tr>\n",
       "    <tr>\n",
       "      <th>13</th>\n",
       "      <td>76</td>\n",
       "      <td>656</td>\n",
       "      <td>5544</td>\n",
       "      <td>1379</td>\n",
       "      <td>262</td>\n",
       "      <td>22</td>\n",
       "      <td>198</td>\n",
       "      <td>478</td>\n",
       "      <td>1336</td>\n",
       "      <td>69</td>\n",
       "      <td>726</td>\n",
       "      <td>677</td>\n",
       "      <td>4.16</td>\n",
       "      <td>6</td>\n",
       "      <td>12</td>\n",
       "      <td>45</td>\n",
       "      <td>94</td>\n",
       "    </tr>\n",
       "    <tr>\n",
       "      <th>14</th>\n",
       "      <td>68</td>\n",
       "      <td>694</td>\n",
       "      <td>5600</td>\n",
       "      <td>1405</td>\n",
       "      <td>277</td>\n",
       "      <td>46</td>\n",
       "      <td>146</td>\n",
       "      <td>475</td>\n",
       "      <td>1119</td>\n",
       "      <td>78</td>\n",
       "      <td>729</td>\n",
       "      <td>664</td>\n",
       "      <td>4.14</td>\n",
       "      <td>5</td>\n",
       "      <td>15</td>\n",
       "      <td>28</td>\n",
       "      <td>126</td>\n",
       "    </tr>\n",
       "    <tr>\n",
       "      <th>15</th>\n",
       "      <td>100</td>\n",
       "      <td>647</td>\n",
       "      <td>5484</td>\n",
       "      <td>1386</td>\n",
       "      <td>288</td>\n",
       "      <td>39</td>\n",
       "      <td>137</td>\n",
       "      <td>506</td>\n",
       "      <td>1267</td>\n",
       "      <td>69</td>\n",
       "      <td>525</td>\n",
       "      <td>478</td>\n",
       "      <td>2.94</td>\n",
       "      <td>1</td>\n",
       "      <td>15</td>\n",
       "      <td>62</td>\n",
       "      <td>96</td>\n",
       "    </tr>\n",
       "    <tr>\n",
       "      <th>16</th>\n",
       "      <td>98</td>\n",
       "      <td>697</td>\n",
       "      <td>5631</td>\n",
       "      <td>1462</td>\n",
       "      <td>292</td>\n",
       "      <td>27</td>\n",
       "      <td>140</td>\n",
       "      <td>461</td>\n",
       "      <td>1322</td>\n",
       "      <td>98</td>\n",
       "      <td>596</td>\n",
       "      <td>532</td>\n",
       "      <td>3.21</td>\n",
       "      <td>0</td>\n",
       "      <td>13</td>\n",
       "      <td>54</td>\n",
       "      <td>122</td>\n",
       "    </tr>\n",
       "    <tr>\n",
       "      <th>17</th>\n",
       "      <td>97</td>\n",
       "      <td>689</td>\n",
       "      <td>5491</td>\n",
       "      <td>1341</td>\n",
       "      <td>272</td>\n",
       "      <td>30</td>\n",
       "      <td>171</td>\n",
       "      <td>567</td>\n",
       "      <td>1518</td>\n",
       "      <td>95</td>\n",
       "      <td>608</td>\n",
       "      <td>546</td>\n",
       "      <td>3.36</td>\n",
       "      <td>6</td>\n",
       "      <td>21</td>\n",
       "      <td>48</td>\n",
       "      <td>111</td>\n",
       "    </tr>\n",
       "    <tr>\n",
       "      <th>18</th>\n",
       "      <td>68</td>\n",
       "      <td>655</td>\n",
       "      <td>5480</td>\n",
       "      <td>1378</td>\n",
       "      <td>274</td>\n",
       "      <td>34</td>\n",
       "      <td>145</td>\n",
       "      <td>412</td>\n",
       "      <td>1299</td>\n",
       "      <td>84</td>\n",
       "      <td>737</td>\n",
       "      <td>682</td>\n",
       "      <td>4.28</td>\n",
       "      <td>1</td>\n",
       "      <td>7</td>\n",
       "      <td>40</td>\n",
       "      <td>116</td>\n",
       "    </tr>\n",
       "    <tr>\n",
       "      <th>19</th>\n",
       "      <td>64</td>\n",
       "      <td>640</td>\n",
       "      <td>5571</td>\n",
       "      <td>1382</td>\n",
       "      <td>257</td>\n",
       "      <td>27</td>\n",
       "      <td>167</td>\n",
       "      <td>496</td>\n",
       "      <td>1255</td>\n",
       "      <td>134</td>\n",
       "      <td>754</td>\n",
       "      <td>700</td>\n",
       "      <td>4.33</td>\n",
       "      <td>2</td>\n",
       "      <td>8</td>\n",
       "      <td>35</td>\n",
       "      <td>90</td>\n",
       "    </tr>\n",
       "    <tr>\n",
       "      <th>20</th>\n",
       "      <td>90</td>\n",
       "      <td>683</td>\n",
       "      <td>5527</td>\n",
       "      <td>1351</td>\n",
       "      <td>295</td>\n",
       "      <td>17</td>\n",
       "      <td>177</td>\n",
       "      <td>488</td>\n",
       "      <td>1290</td>\n",
       "      <td>51</td>\n",
       "      <td>613</td>\n",
       "      <td>557</td>\n",
       "      <td>3.43</td>\n",
       "      <td>1</td>\n",
       "      <td>14</td>\n",
       "      <td>50</td>\n",
       "      <td>88</td>\n",
       "    </tr>\n",
       "    <tr>\n",
       "      <th>21</th>\n",
       "      <td>83</td>\n",
       "      <td>703</td>\n",
       "      <td>5428</td>\n",
       "      <td>1363</td>\n",
       "      <td>265</td>\n",
       "      <td>13</td>\n",
       "      <td>177</td>\n",
       "      <td>539</td>\n",
       "      <td>1344</td>\n",
       "      <td>57</td>\n",
       "      <td>635</td>\n",
       "      <td>577</td>\n",
       "      <td>3.62</td>\n",
       "      <td>4</td>\n",
       "      <td>13</td>\n",
       "      <td>41</td>\n",
       "      <td>90</td>\n",
       "    </tr>\n",
       "    <tr>\n",
       "      <th>22</th>\n",
       "      <td>71</td>\n",
       "      <td>613</td>\n",
       "      <td>5463</td>\n",
       "      <td>1420</td>\n",
       "      <td>236</td>\n",
       "      <td>40</td>\n",
       "      <td>120</td>\n",
       "      <td>375</td>\n",
       "      <td>1150</td>\n",
       "      <td>112</td>\n",
       "      <td>678</td>\n",
       "      <td>638</td>\n",
       "      <td>4.02</td>\n",
       "      <td>0</td>\n",
       "      <td>12</td>\n",
       "      <td>35</td>\n",
       "      <td>77</td>\n",
       "    </tr>\n",
       "    <tr>\n",
       "      <th>23</th>\n",
       "      <td>67</td>\n",
       "      <td>573</td>\n",
       "      <td>5420</td>\n",
       "      <td>1361</td>\n",
       "      <td>251</td>\n",
       "      <td>18</td>\n",
       "      <td>100</td>\n",
       "      <td>471</td>\n",
       "      <td>1107</td>\n",
       "      <td>69</td>\n",
       "      <td>760</td>\n",
       "      <td>698</td>\n",
       "      <td>4.41</td>\n",
       "      <td>3</td>\n",
       "      <td>10</td>\n",
       "      <td>44</td>\n",
       "      <td>90</td>\n",
       "    </tr>\n",
       "    <tr>\n",
       "      <th>24</th>\n",
       "      <td>63</td>\n",
       "      <td>626</td>\n",
       "      <td>5529</td>\n",
       "      <td>1374</td>\n",
       "      <td>272</td>\n",
       "      <td>37</td>\n",
       "      <td>130</td>\n",
       "      <td>387</td>\n",
       "      <td>1274</td>\n",
       "      <td>88</td>\n",
       "      <td>809</td>\n",
       "      <td>749</td>\n",
       "      <td>4.69</td>\n",
       "      <td>1</td>\n",
       "      <td>7</td>\n",
       "      <td>35</td>\n",
       "      <td>117</td>\n",
       "    </tr>\n",
       "    <tr>\n",
       "      <th>25</th>\n",
       "      <td>92</td>\n",
       "      <td>667</td>\n",
       "      <td>5385</td>\n",
       "      <td>1346</td>\n",
       "      <td>263</td>\n",
       "      <td>26</td>\n",
       "      <td>187</td>\n",
       "      <td>563</td>\n",
       "      <td>1258</td>\n",
       "      <td>59</td>\n",
       "      <td>595</td>\n",
       "      <td>553</td>\n",
       "      <td>3.44</td>\n",
       "      <td>6</td>\n",
       "      <td>21</td>\n",
       "      <td>47</td>\n",
       "      <td>75</td>\n",
       "    </tr>\n",
       "    <tr>\n",
       "      <th>26</th>\n",
       "      <td>84</td>\n",
       "      <td>696</td>\n",
       "      <td>5565</td>\n",
       "      <td>1486</td>\n",
       "      <td>288</td>\n",
       "      <td>39</td>\n",
       "      <td>136</td>\n",
       "      <td>457</td>\n",
       "      <td>1159</td>\n",
       "      <td>93</td>\n",
       "      <td>627</td>\n",
       "      <td>597</td>\n",
       "      <td>3.72</td>\n",
       "      <td>7</td>\n",
       "      <td>18</td>\n",
       "      <td>41</td>\n",
       "      <td>78</td>\n",
       "    </tr>\n",
       "    <tr>\n",
       "      <th>27</th>\n",
       "      <td>79</td>\n",
       "      <td>720</td>\n",
       "      <td>5649</td>\n",
       "      <td>1494</td>\n",
       "      <td>289</td>\n",
       "      <td>48</td>\n",
       "      <td>154</td>\n",
       "      <td>490</td>\n",
       "      <td>1312</td>\n",
       "      <td>132</td>\n",
       "      <td>713</td>\n",
       "      <td>659</td>\n",
       "      <td>4.04</td>\n",
       "      <td>1</td>\n",
       "      <td>12</td>\n",
       "      <td>44</td>\n",
       "      <td>86</td>\n",
       "    </tr>\n",
       "    <tr>\n",
       "      <th>28</th>\n",
       "      <td>74</td>\n",
       "      <td>650</td>\n",
       "      <td>5457</td>\n",
       "      <td>1324</td>\n",
       "      <td>260</td>\n",
       "      <td>36</td>\n",
       "      <td>148</td>\n",
       "      <td>426</td>\n",
       "      <td>1327</td>\n",
       "      <td>82</td>\n",
       "      <td>731</td>\n",
       "      <td>655</td>\n",
       "      <td>4.09</td>\n",
       "      <td>1</td>\n",
       "      <td>6</td>\n",
       "      <td>41</td>\n",
       "      <td>92</td>\n",
       "    </tr>\n",
       "    <tr>\n",
       "      <th>29</th>\n",
       "      <td>68</td>\n",
       "      <td>737</td>\n",
       "      <td>5572</td>\n",
       "      <td>1479</td>\n",
       "      <td>274</td>\n",
       "      <td>49</td>\n",
       "      <td>186</td>\n",
       "      <td>388</td>\n",
       "      <td>1283</td>\n",
       "      <td>97</td>\n",
       "      <td>844</td>\n",
       "      <td>799</td>\n",
       "      <td>5.04</td>\n",
       "      <td>4</td>\n",
       "      <td>4</td>\n",
       "      <td>36</td>\n",
       "      <td>95</td>\n",
       "    </tr>\n",
       "  </tbody>\n",
       "</table>\n",
       "</div>"
      ],
      "text/plain": [
       "      W    R    AB     H   2B  3B   HR   BB    SO   SB   RA   ER   ERA  CG  \\\n",
       "0    95  724  5575  1497  300  42  139  383   973  104  641  601  3.73   2   \n",
       "1    83  696  5467  1349  277  44  156  439  1264   70  700  653  4.07   2   \n",
       "2    81  669  5439  1395  303  29  141  533  1157   86  640  584  3.67  11   \n",
       "3    76  622  5533  1381  260  27  136  404  1231   68  701  643  3.98   7   \n",
       "4    74  689  5605  1515  289  49  151  455  1259   83  803  746  4.64   7   \n",
       "5    93  891  5509  1480  308  17  232  570  1151   88  670  609  3.80   7   \n",
       "6    87  764  5567  1397  272  19  212  554  1227   63  698  652  4.03   3   \n",
       "7    81  713  5485  1370  246  20  217  418  1331   44  693  646  4.05   0   \n",
       "8    80  644  5485  1383  278  32  167  436  1310   87  642  604  3.74   1   \n",
       "9    78  748  5640  1495  294  33  161  478  1148   71  753  694  4.31   3   \n",
       "10   88  751  5511  1419  279  32  172  503  1233  101  733  680  4.24   5   \n",
       "11   86  729  5459  1363  278  26  230  486  1392  121  618  572  3.57   5   \n",
       "12   85  661  5417  1331  243  21  176  435  1150   52  675  630  3.94   2   \n",
       "13   76  656  5544  1379  262  22  198  478  1336   69  726  677  4.16   6   \n",
       "14   68  694  5600  1405  277  46  146  475  1119   78  729  664  4.14   5   \n",
       "15  100  647  5484  1386  288  39  137  506  1267   69  525  478  2.94   1   \n",
       "16   98  697  5631  1462  292  27  140  461  1322   98  596  532  3.21   0   \n",
       "17   97  689  5491  1341  272  30  171  567  1518   95  608  546  3.36   6   \n",
       "18   68  655  5480  1378  274  34  145  412  1299   84  737  682  4.28   1   \n",
       "19   64  640  5571  1382  257  27  167  496  1255  134  754  700  4.33   2   \n",
       "20   90  683  5527  1351  295  17  177  488  1290   51  613  557  3.43   1   \n",
       "21   83  703  5428  1363  265  13  177  539  1344   57  635  577  3.62   4   \n",
       "22   71  613  5463  1420  236  40  120  375  1150  112  678  638  4.02   0   \n",
       "23   67  573  5420  1361  251  18  100  471  1107   69  760  698  4.41   3   \n",
       "24   63  626  5529  1374  272  37  130  387  1274   88  809  749  4.69   1   \n",
       "25   92  667  5385  1346  263  26  187  563  1258   59  595  553  3.44   6   \n",
       "26   84  696  5565  1486  288  39  136  457  1159   93  627  597  3.72   7   \n",
       "27   79  720  5649  1494  289  48  154  490  1312  132  713  659  4.04   1   \n",
       "28   74  650  5457  1324  260  36  148  426  1327   82  731  655  4.09   1   \n",
       "29   68  737  5572  1479  274  49  186  388  1283   97  844  799  5.04   4   \n",
       "\n",
       "    SHO  SV    E  \n",
       "0     8  56   88  \n",
       "1    12  45   86  \n",
       "2    10  38   79  \n",
       "3     9  37  101  \n",
       "4    12  35   86  \n",
       "5    10  34   88  \n",
       "6     4  48   93  \n",
       "7    10  43   77  \n",
       "8    12  60   95  \n",
       "9    10  40   97  \n",
       "10    9  45  119  \n",
       "11   13  39   85  \n",
       "12   12  46   93  \n",
       "13   12  45   94  \n",
       "14   15  28  126  \n",
       "15   15  62   96  \n",
       "16   13  54  122  \n",
       "17   21  48  111  \n",
       "18    7  40  116  \n",
       "19    8  35   90  \n",
       "20   14  50   88  \n",
       "21   13  41   90  \n",
       "22   12  35   77  \n",
       "23   10  44   90  \n",
       "24    7  35  117  \n",
       "25   21  47   75  \n",
       "26   18  41   78  \n",
       "27   12  44   86  \n",
       "28    6  41   92  \n",
       "29    4  36   95  "
      ]
     },
     "execution_count": 4,
     "metadata": {},
     "output_type": "execute_result"
    }
   ],
   "source": [
    "df=pd.read_csv(\"https://github.com/dsrscientist/Data-Science-ML-Capstone-Projects/raw/master/baseball.csv\")\n",
    "\n",
    "df"
   ]
  },
  {
   "cell_type": "code",
   "execution_count": 6,
   "id": "d53acaae",
   "metadata": {},
   "outputs": [],
   "source": [
    "from matplotlib import pyplot as plt\n",
    "import seaborn as sns\n",
    "import statsmodels.api as sm"
   ]
  },
  {
   "cell_type": "code",
   "execution_count": 8,
   "id": "a0d1b604",
   "metadata": {},
   "outputs": [
    {
     "data": {
      "text/plain": [
       "(array([2., 4., 3., 2., 5., 4., 3., 2., 2., 3.]),\n",
       " array([ 63. ,  66.7,  70.4,  74.1,  77.8,  81.5,  85.2,  88.9,  92.6,\n",
       "         96.3, 100. ]),\n",
       " <BarContainer object of 10 artists>)"
      ]
     },
     "execution_count": 8,
     "metadata": {},
     "output_type": "execute_result"
    },
    {
     "data": {
      "image/png": "[encoded data removed]",
      "text/plain": [
       "<Figure size 432x288 with 1 Axes>"
      ]
     },
     "metadata": {
      "needs_background": "light"
     },
     "output_type": "display_data"
    }
   ],
   "source": [
    "plt.hist(df.W)"
   ]
  },
  {
   "cell_type": "code",
   "execution_count": 9,
   "id": "8765f1f9",
   "metadata": {},
   "outputs": [
    {
     "data": {
      "text/plain": [
       "(array([1., 3., 8., 8., 5., 3., 1., 0., 0., 1.]),\n",
       " array([573. , 604.8, 636.6, 668.4, 700.2, 732. , 763.8, 795.6, 827.4,\n",
       "        859.2, 891. ]),\n",
       " <BarContainer object of 10 artists>)"
      ]
     },
     "execution_count": 9,
     "metadata": {},
     "output_type": "execute_result"
    },
    {
     "data": {
      "image/png": "[encoded data removed]",
      "text/plain": [
       "<Figure size 432x288 with 1 Axes>"
      ]
     },
     "metadata": {
      "needs_background": "light"
     },
     "output_type": "display_data"
    }
   ],
   "source": [
    "plt.hist(df.R)"
   ]
  },
  {
   "cell_type": "code",
   "execution_count": 10,
   "id": "ceb39277",
   "metadata": {},
   "outputs": [
    {
     "data": {
      "text/plain": [
       "(array([1., 3., 4., 5., 3., 3., 3., 3., 2., 3.]),\n",
       " array([5385. , 5411.4, 5437.8, 5464.2, 5490.6, 5517. , 5543.4, 5569.8,\n",
       "        5596.2, 5622.6, 5649. ]),\n",
       " <BarContainer object of 10 artists>)"
      ]
     },
     "execution_count": 10,
     "metadata": {},
     "output_type": "execute_result"
    },
    {
     "data": {
      "image/png": "[encoded data removed]",
      "text/plain": [
       "<Figure size 432x288 with 1 Axes>"
      ]
     },
     "metadata": {
      "needs_background": "light"
     },
     "output_type": "display_data"
    }
   ],
   "source": [
    "plt.hist(df.AB)"
   ]
  },
  {
   "cell_type": "code",
   "execution_count": 11,
   "id": "b15bcab5",
   "metadata": {},
   "outputs": [
    {
     "data": {
      "text/plain": [
       "(array([3., 4., 7., 5., 2., 1., 0., 1., 5., 2.]),\n",
       " array([1324. , 1343.1, 1362.2, 1381.3, 1400.4, 1419.5, 1438.6, 1457.7,\n",
       "        1476.8, 1495.9, 1515. ]),\n",
       " <BarContainer object of 10 artists>)"
      ]
     },
     "execution_count": 11,
     "metadata": {},
     "output_type": "execute_result"
    },
    {
     "data": {
      "image/png": "[encoded data removed]",
      "text/plain": [
       "<Figure size 432x288 with 1 Axes>"
      ]
     },
     "metadata": {
      "needs_background": "light"
     },
     "output_type": "display_data"
    }
   ],
   "source": [
    "plt.hist(df.H)"
   ]
  },
  {
   "cell_type": "code",
   "execution_count": 5,
   "id": "971248c7",
   "metadata": {},
   "outputs": [],
   "source": [
    "# Specify the columns you want to include in the DataFrame\n",
    "selected_columns = [\"2B\", \"H\", \"R\", \"W\"]\n"
   ]
  },
  {
   "cell_type": "code",
   "execution_count": 7,
   "id": "477469c6",
   "metadata": {},
   "outputs": [
    {
     "ename": "NameError",
     "evalue": "name 'dataset_url' is not defined",
     "output_type": "error",
     "traceback": [
      "\u001b[1;31m---------------------------------------------------------------------------\u001b[0m",
      "\u001b[1;31mNameError\u001b[0m                                 Traceback (most recent call last)",
      "Input \u001b[1;32mIn [7]\u001b[0m, in \u001b[0;36m<cell line: 2>\u001b[1;34m()\u001b[0m\n\u001b[0;32m      1\u001b[0m \u001b[38;5;66;03m# Read the dataset into a Pandas DataFrame, selecting only the desired columns\u001b[39;00m\n\u001b[1;32m----> 2\u001b[0m df \u001b[38;5;241m=\u001b[39m pd\u001b[38;5;241m.\u001b[39mread_csv(\u001b[43mdataset_url\u001b[49m, usecols\u001b[38;5;241m=\u001b[39mselected_columns)\n",
      "\u001b[1;31mNameError\u001b[0m: name 'dataset_url' is not defined"
     ]
    }
   ],
   "source": [
    "# Read the dataset into a Pandas DataFrame, selecting only the desired columns\n",
    "df = pd.read_csv(dataset_url, usecols=selected_columns)"
   ]
  },
  {
   "cell_type": "code",
   "execution_count": 8,
   "id": "8fab2ea7",
   "metadata": {},
   "outputs": [
    {
     "name": "stdout",
     "output_type": "stream",
     "text": [
      "    W    R    AB     H   2B  3B   HR   BB    SO   SB   RA   ER   ERA  CG  SHO  \\\n",
      "0  95  724  5575  1497  300  42  139  383   973  104  641  601  3.73   2    8   \n",
      "1  83  696  5467  1349  277  44  156  439  1264   70  700  653  4.07   2   12   \n",
      "2  81  669  5439  1395  303  29  141  533  1157   86  640  584  3.67  11   10   \n",
      "3  76  622  5533  1381  260  27  136  404  1231   68  701  643  3.98   7    9   \n",
      "4  74  689  5605  1515  289  49  151  455  1259   83  803  746  4.64   7   12   \n",
      "\n",
      "   SV    E  \n",
      "0  56   88  \n",
      "1  45   86  \n",
      "2  38   79  \n",
      "3  37  101  \n",
      "4  35   86  \n"
     ]
    }
   ],
   "source": [
    "# Display the first few rows of the DataFrame to verify it's loaded correctly\n",
    "print(df.head())\n",
    "\n",
    "\n",
    "\n",
    "\n",
    "\n"
   ]
  },
  {
   "cell_type": "code",
   "execution_count": 14,
   "id": "b7679e46",
   "metadata": {},
   "outputs": [
    {
     "data": {
      "text/plain": [
       "(array([1., 1., 5., 6., 3., 7., 2., 1., 2., 2.]),\n",
       " array([100. , 113.2, 126.4, 139.6, 152.8, 166. , 179.2, 192.4, 205.6,\n",
       "        218.8, 232. ]),\n",
       " <BarContainer object of 10 artists>)"
      ]
     },
     "execution_count": 14,
     "metadata": {},
     "output_type": "execute_result"
    },
    {
     "data": {
      "image/png": "[encoded data removed]",
      "text/plain": [
       "<Figure size 432x288 with 1 Axes>"
      ]
     },
     "metadata": {
      "needs_background": "light"
     },
     "output_type": "display_data"
    }
   ],
   "source": [
    "plt.hist(df.HR)"
   ]
  },
  {
   "cell_type": "code",
   "execution_count": 15,
   "id": "ce7f38cd",
   "metadata": {},
   "outputs": [
    {
     "data": {
      "text/plain": [
       "(array([4., 2., 2., 3., 4., 6., 3., 0., 2., 4.]),\n",
       " array([375. , 394.5, 414. , 433.5, 453. , 472.5, 492. , 511.5, 531. ,\n",
       "        550.5, 570. ]),\n",
       " <BarContainer object of 10 artists>)"
      ]
     },
     "execution_count": 15,
     "metadata": {},
     "output_type": "execute_result"
    },
    {
     "data": {
      "image/png": "[encoded data removed]",
      "text/plain": [
       "<Figure size 432x288 with 1 Axes>"
      ]
     },
     "metadata": {
      "needs_background": "light"
     },
     "output_type": "display_data"
    }
   ],
   "source": [
    "plt.hist(df.BB)"
   ]
  },
  {
   "cell_type": "code",
   "execution_count": 16,
   "id": "aaea0205",
   "metadata": {},
   "outputs": [
    {
     "data": {
      "text/plain": [
       "(array([1., 0., 2., 6., 3., 9., 7., 1., 0., 1.]),\n",
       " array([ 973. , 1027.5, 1082. , 1136.5, 1191. , 1245.5, 1300. , 1354.5,\n",
       "        1409. , 1463.5, 1518. ]),\n",
       " <BarContainer object of 10 artists>)"
      ]
     },
     "execution_count": 16,
     "metadata": {},
     "output_type": "execute_result"
    },
    {
     "data": {
      "image/png": "[encoded data removed]",
      "text/plain": [
       "<Figure size 432x288 with 1 Axes>"
      ]
     },
     "metadata": {
      "needs_background": "light"
     },
     "output_type": "display_data"
    }
   ],
   "source": [
    "plt.hist(df.SO)"
   ]
  },
  {
   "cell_type": "code",
   "execution_count": 17,
   "id": "ee0a8561",
   "metadata": {},
   "outputs": [
    {
     "data": {
      "text/plain": [
       "(array([3., 2., 6., 2., 7., 3., 3., 1., 1., 2.]),\n",
       " array([ 44.,  53.,  62.,  71.,  80.,  89.,  98., 107., 116., 125., 134.]),\n",
       " <BarContainer object of 10 artists>)"
      ]
     },
     "execution_count": 17,
     "metadata": {},
     "output_type": "execute_result"
    },
    {
     "data": {
      "image/png": "[encoded data removed]",
      "text/plain": [
       "<Figure size 432x288 with 1 Axes>"
      ]
     },
     "metadata": {
      "needs_background": "light"
     },
     "output_type": "display_data"
    }
   ],
   "source": [
    "plt.hist(df.SB)"
   ]
  },
  {
   "cell_type": "code",
   "execution_count": 18,
   "id": "0aebfc40",
   "metadata": {},
   "outputs": [
    {
     "data": {
      "text/plain": [
       "(array([1., 0., 5., 5., 3., 5., 5., 3., 2., 1.]),\n",
       " array([525. , 556.9, 588.8, 620.7, 652.6, 684.5, 716.4, 748.3, 780.2,\n",
       "        812.1, 844. ]),\n",
       " <BarContainer object of 10 artists>)"
      ]
     },
     "execution_count": 18,
     "metadata": {},
     "output_type": "execute_result"
    },
    {
     "data": {
      "image/png": "[encoded data removed]",
      "text/plain": [
       "<Figure size 432x288 with 1 Axes>"
      ]
     },
     "metadata": {
      "needs_background": "light"
     },
     "output_type": "display_data"
    }
   ],
   "source": [
    "plt.hist(df.RA)"
   ]
  },
  {
   "cell_type": "code",
   "execution_count": 19,
   "id": "79ffb4ce",
   "metadata": {},
   "outputs": [
    {
     "data": {
      "text/plain": [
       "(array([1., 1., 4., 5., 3., 7., 6., 0., 2., 1.]),\n",
       " array([478. , 510.1, 542.2, 574.3, 606.4, 638.5, 670.6, 702.7, 734.8,\n",
       "        766.9, 799. ]),\n",
       " <BarContainer object of 10 artists>)"
      ]
     },
     "execution_count": 19,
     "metadata": {},
     "output_type": "execute_result"
    },
    {
     "data": {
      "image/png": "[encoded data removed]",
      "text/plain": [
       "<Figure size 432x288 with 1 Axes>"
      ]
     },
     "metadata": {
      "needs_background": "light"
     },
     "output_type": "display_data"
    }
   ],
   "source": [
    "plt.hist(df.ER)"
   ]
  },
  {
   "cell_type": "code",
   "execution_count": 20,
   "id": "0e227f5f",
   "metadata": {},
   "outputs": [
    {
     "data": {
      "text/plain": [
       "(array([1., 1., 4., 5., 3., 8., 4., 1., 2., 1.]),\n",
       " array([2.94, 3.15, 3.36, 3.57, 3.78, 3.99, 4.2 , 4.41, 4.62, 4.83, 5.04]),\n",
       " <BarContainer object of 10 artists>)"
      ]
     },
     "execution_count": 20,
     "metadata": {},
     "output_type": "execute_result"
    },
    {
     "data": {
      "image/png": "[encoded data removed]",
      "text/plain": [
       "<Figure size 432x288 with 1 Axes>"
      ]
     },
     "metadata": {
      "needs_background": "light"
     },
     "output_type": "display_data"
    }
   ],
   "source": [
    "plt.hist(df.ERA)"
   ]
  },
  {
   "cell_type": "code",
   "execution_count": 21,
   "id": "9ca7ad47",
   "metadata": {},
   "outputs": [
    {
     "data": {
      "text/plain": [
       "(array([10.,  4.,  3.,  2.,  3.,  3.,  4.,  0.,  0.,  1.]),\n",
       " array([ 0. ,  1.1,  2.2,  3.3,  4.4,  5.5,  6.6,  7.7,  8.8,  9.9, 11. ]),\n",
       " <BarContainer object of 10 artists>)"
      ]
     },
     "execution_count": 21,
     "metadata": {},
     "output_type": "execute_result"
    },
    {
     "data": {
      "image/png": "[encoded data removed]",
      "text/plain": [
       "<Figure size 432x288 with 1 Axes>"
      ]
     },
     "metadata": {
      "needs_background": "light"
     },
     "output_type": "display_data"
    }
   ],
   "source": [
    "plt.hist(df.CG)"
   ]
  },
  {
   "cell_type": "code",
   "execution_count": 22,
   "id": "4e2e9d64",
   "metadata": {},
   "outputs": [
    {
     "data": {
      "text/plain": [
       "(array([2., 3., 4., 5., 7., 4., 2., 0., 1., 2.]),\n",
       " array([ 4. ,  5.7,  7.4,  9.1, 10.8, 12.5, 14.2, 15.9, 17.6, 19.3, 21. ]),\n",
       " <BarContainer object of 10 artists>)"
      ]
     },
     "execution_count": 22,
     "metadata": {},
     "output_type": "execute_result"
    },
    {
     "data": {
      "image/png": "[encoded data removed]",
      "text/plain": [
       "<Figure size 432x288 with 1 Axes>"
      ]
     },
     "metadata": {
      "needs_background": "light"
     },
     "output_type": "display_data"
    }
   ],
   "source": [
    "plt.hist(df.SHO)"
   ]
  },
  {
   "cell_type": "code",
   "execution_count": 23,
   "id": "f3ce3229",
   "metadata": {},
   "outputs": [
    {
     "ename": "AttributeError",
     "evalue": "'DataFrame' object has no attribute 'CV'",
     "output_type": "error",
     "traceback": [
      "\u001b[1;31m---------------------------------------------------------------------------\u001b[0m",
      "\u001b[1;31mAttributeError\u001b[0m                            Traceback (most recent call last)",
      "Input \u001b[1;32mIn [23]\u001b[0m, in \u001b[0;36m<cell line: 1>\u001b[1;34m()\u001b[0m\n\u001b[1;32m----> 1\u001b[0m plt\u001b[38;5;241m.\u001b[39mhist(\u001b[43mdf\u001b[49m\u001b[38;5;241;43m.\u001b[39;49m\u001b[43mCV\u001b[49m)\n",
      "File \u001b[1;32mC:\\ProgramData\\Anaconda3\\lib\\site-packages\\pandas\\core\\generic.py:5575\u001b[0m, in \u001b[0;36mNDFrame.__getattr__\u001b[1;34m(self, name)\u001b[0m\n\u001b[0;32m   5568\u001b[0m \u001b[38;5;28;01mif\u001b[39;00m (\n\u001b[0;32m   5569\u001b[0m     name \u001b[38;5;129;01mnot\u001b[39;00m \u001b[38;5;129;01min\u001b[39;00m \u001b[38;5;28mself\u001b[39m\u001b[38;5;241m.\u001b[39m_internal_names_set\n\u001b[0;32m   5570\u001b[0m     \u001b[38;5;129;01mand\u001b[39;00m name \u001b[38;5;129;01mnot\u001b[39;00m \u001b[38;5;129;01min\u001b[39;00m \u001b[38;5;28mself\u001b[39m\u001b[38;5;241m.\u001b[39m_metadata\n\u001b[0;32m   5571\u001b[0m     \u001b[38;5;129;01mand\u001b[39;00m name \u001b[38;5;129;01mnot\u001b[39;00m \u001b[38;5;129;01min\u001b[39;00m \u001b[38;5;28mself\u001b[39m\u001b[38;5;241m.\u001b[39m_accessors\n\u001b[0;32m   5572\u001b[0m     \u001b[38;5;129;01mand\u001b[39;00m \u001b[38;5;28mself\u001b[39m\u001b[38;5;241m.\u001b[39m_info_axis\u001b[38;5;241m.\u001b[39m_can_hold_identifiers_and_holds_name(name)\n\u001b[0;32m   5573\u001b[0m ):\n\u001b[0;32m   5574\u001b[0m     \u001b[38;5;28;01mreturn\u001b[39;00m \u001b[38;5;28mself\u001b[39m[name]\n\u001b[1;32m-> 5575\u001b[0m \u001b[38;5;28;01mreturn\u001b[39;00m \u001b[38;5;28;43mobject\u001b[39;49m\u001b[38;5;241;43m.\u001b[39;49m\u001b[38;5;21;43m__getattribute__\u001b[39;49m\u001b[43m(\u001b[49m\u001b[38;5;28;43mself\u001b[39;49m\u001b[43m,\u001b[49m\u001b[43m \u001b[49m\u001b[43mname\u001b[49m\u001b[43m)\u001b[49m\n",
      "\u001b[1;31mAttributeError\u001b[0m: 'DataFrame' object has no attribute 'CV'"
     ]
    }
   ],
   "source": [
    "plt.hist(df.CV)"
   ]
  },
  {
   "cell_type": "code",
   "execution_count": 24,
   "id": "cf0bfc2d",
   "metadata": {},
   "outputs": [
    {
     "ename": "AttributeError",
     "evalue": "'DataFrame' object has no attribute 'C'",
     "output_type": "error",
     "traceback": [
      "\u001b[1;31m---------------------------------------------------------------------------\u001b[0m",
      "\u001b[1;31mAttributeError\u001b[0m                            Traceback (most recent call last)",
      "Input \u001b[1;32mIn [24]\u001b[0m, in \u001b[0;36m<cell line: 1>\u001b[1;34m()\u001b[0m\n\u001b[1;32m----> 1\u001b[0m plt\u001b[38;5;241m.\u001b[39mhist(\u001b[43mdf\u001b[49m\u001b[38;5;241;43m.\u001b[39;49m\u001b[43mC\u001b[49m)\n",
      "File \u001b[1;32mC:\\ProgramData\\Anaconda3\\lib\\site-packages\\pandas\\core\\generic.py:5575\u001b[0m, in \u001b[0;36mNDFrame.__getattr__\u001b[1;34m(self, name)\u001b[0m\n\u001b[0;32m   5568\u001b[0m \u001b[38;5;28;01mif\u001b[39;00m (\n\u001b[0;32m   5569\u001b[0m     name \u001b[38;5;129;01mnot\u001b[39;00m \u001b[38;5;129;01min\u001b[39;00m \u001b[38;5;28mself\u001b[39m\u001b[38;5;241m.\u001b[39m_internal_names_set\n\u001b[0;32m   5570\u001b[0m     \u001b[38;5;129;01mand\u001b[39;00m name \u001b[38;5;129;01mnot\u001b[39;00m \u001b[38;5;129;01min\u001b[39;00m \u001b[38;5;28mself\u001b[39m\u001b[38;5;241m.\u001b[39m_metadata\n\u001b[0;32m   5571\u001b[0m     \u001b[38;5;129;01mand\u001b[39;00m name \u001b[38;5;129;01mnot\u001b[39;00m \u001b[38;5;129;01min\u001b[39;00m \u001b[38;5;28mself\u001b[39m\u001b[38;5;241m.\u001b[39m_accessors\n\u001b[0;32m   5572\u001b[0m     \u001b[38;5;129;01mand\u001b[39;00m \u001b[38;5;28mself\u001b[39m\u001b[38;5;241m.\u001b[39m_info_axis\u001b[38;5;241m.\u001b[39m_can_hold_identifiers_and_holds_name(name)\n\u001b[0;32m   5573\u001b[0m ):\n\u001b[0;32m   5574\u001b[0m     \u001b[38;5;28;01mreturn\u001b[39;00m \u001b[38;5;28mself\u001b[39m[name]\n\u001b[1;32m-> 5575\u001b[0m \u001b[38;5;28;01mreturn\u001b[39;00m \u001b[38;5;28;43mobject\u001b[39;49m\u001b[38;5;241;43m.\u001b[39;49m\u001b[38;5;21;43m__getattribute__\u001b[39;49m\u001b[43m(\u001b[49m\u001b[38;5;28;43mself\u001b[39;49m\u001b[43m,\u001b[49m\u001b[43m \u001b[49m\u001b[43mname\u001b[49m\u001b[43m)\u001b[49m\n",
      "\u001b[1;31mAttributeError\u001b[0m: 'DataFrame' object has no attribute 'C'"
     ]
    }
   ],
   "source": [
    "plt.hist(df.C)"
   ]
  },
  {
   "cell_type": "code",
   "execution_count": null,
   "id": "82d6a299",
   "metadata": {},
   "outputs": [],
   "source": []
  }
 ],
 "metadata": {
  "kernelspec": {
   "display_name": "Python 3 (ipykernel)",
   "language": "python",
   "name": "python3"
  },
  "language_info": {
   "codemirror_mode": {
    "name": "ipython",
    "version": 3
   },
   "file_extension": ".py",
   "mimetype": "text/x-python",
   "name": "python",
   "nbconvert_exporter": "python",
   "pygments_lexer": "ipython3",
   "version": "3.9.12"
  }
 },
 "nbformat": 4,
 "nbformat_minor": 5
}
